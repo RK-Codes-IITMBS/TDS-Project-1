{
 "cells": [
  {
   "cell_type": "code",
   "execution_count": 1,
   "metadata": {},
   "outputs": [],
   "source": [
    "import requests\n",
    "import csv\n",
    "import pandas as pd"
   ]
  },
  {
   "cell_type": "code",
   "execution_count": 21,
   "metadata": {},
   "outputs": [
    {
     "data": {
      "text/plain": [
       "[593, 448, 416, 391, 334]"
      ]
     },
     "execution_count": 21,
     "metadata": {},
     "output_type": "execute_result"
    }
   ],
   "source": [
    "users = []\n",
    "with open(\"users.csv\", mode=\"r\", newline=\"\", encoding=\"utf-8\") as file:\n",
    "    reader = csv.DictReader(file)\n",
    "    for row in reader:\n",
    "        users.append([row[\"login\"], row[\"public_repos\"]])\n",
    "\n",
    "a = sorted([int(i[1]) for i in users], reverse=True)\n",
    "a[:5]"
   ]
  },
  {
   "cell_type": "code",
   "execution_count": 22,
   "metadata": {},
   "outputs": [],
   "source": [
    "df = pd.read_csv('users.csv')\n",
    "repos_df = pd.read_csv('repositories.csv')"
   ]
  },
  {
   "cell_type": "markdown",
   "metadata": {},
   "source": [
    "1. Who are the top 5 users in Paris with the highest number of followers? List their login in order, comma-separated.\n"
   ]
  },
  {
   "cell_type": "code",
   "execution_count": 23,
   "metadata": {},
   "outputs": [
    {
     "name": "stdout",
     "output_type": "stream",
     "text": [
      "IDouble,TheOfficialFloW,Seldaek,riscv,JonnyBurger\n"
     ]
    }
   ],
   "source": [
    "top_5_logins = df.sort_values(by='followers', ascending=False).head(5)['login'].tolist()\n",
    "print(','.join(top_5_logins))"
   ]
  },
  {
   "cell_type": "markdown",
   "metadata": {},
   "source": [
    "2. Who are the 5 earliest registered GitHub users in Paris? List their login in ascending order of created_at, comma-separated.\n"
   ]
  },
  {
   "cell_type": "code",
   "execution_count": 24,
   "metadata": {},
   "outputs": [
    {
     "name": "stdout",
     "output_type": "stream",
     "text": [
      "lejoe,uwolfer,matthiask,oscardelben,panterch\n"
     ]
    }
   ],
   "source": [
    "earliest_users = df.sort_values(by='created_at').head(5)['login'].tolist()\n",
    "print(','.join(earliest_users))"
   ]
  },
  {
   "cell_type": "markdown",
   "metadata": {},
   "source": [
    "3. What are the 3 most popular license among these users? Ignore missing licenses. List the license_name in order"
   ]
  },
  {
   "cell_type": "code",
   "execution_count": 25,
   "metadata": {},
   "outputs": [
    {
     "name": "stdout",
     "output_type": "stream",
     "text": [
      "mit,other,apache-2.0\n"
     ]
    }
   ],
   "source": [
    "popular_licenses = repos_df['license_name'].dropna().value_counts().head(3)\n",
    "top_3_licenses = popular_licenses.index.tolist()\n",
    "print(','.join(top_3_licenses))"
   ]
  },
  {
   "cell_type": "markdown",
   "metadata": {},
   "source": [
    "4. Which company do the majority of these developers work at?"
   ]
  },
  {
   "cell_type": "code",
   "execution_count": 26,
   "metadata": {},
   "outputs": [
    {
     "name": "stdout",
     "output_type": "stream",
     "text": [
      "GOOGLE\n"
     ]
    }
   ],
   "source": [
    "most_common_company = df['company'].value_counts().idxmax()\n",
    "print(most_common_company)"
   ]
  },
  {
   "cell_type": "markdown",
   "metadata": {},
   "source": [
    "5. Which programming language is most popular among these users?\n"
   ]
  },
  {
   "cell_type": "code",
   "execution_count": 27,
   "metadata": {},
   "outputs": [
    {
     "name": "stdout",
     "output_type": "stream",
     "text": [
      "Python\n"
     ]
    }
   ],
   "source": [
    "most_common_language = repos_df['language'].value_counts().idxmax()\n",
    "print(most_common_language)"
   ]
  },
  {
   "cell_type": "markdown",
   "metadata": {},
   "source": [
    "6. Which programming language is the second most popular among users who joined after 2020?"
   ]
  },
  {
   "cell_type": "code",
   "execution_count": 28,
   "metadata": {},
   "outputs": [
    {
     "name": "stdout",
     "output_type": "stream",
     "text": [
      "JavaScript\n"
     ]
    }
   ],
   "source": [
    "df['created_at'] = pd.to_datetime(df['created_at'])\n",
    "recent_users = df[df['created_at'] > '2020-01-01']\n",
    "\n",
    "recent_user_logins = recent_users['login'].tolist()\n",
    "recent_repos = repos_df[repos_df['login'].isin(recent_user_logins)]\n",
    "\n",
    "language_counts = recent_repos['language'].value_counts()\n",
    "second_most_common_language = language_counts.index[1]  # Index 1 for second most\n",
    "print(second_most_common_language)\n"
   ]
  },
  {
   "cell_type": "markdown",
   "metadata": {},
   "source": [
    "7. Which language has the highest average number of stars per repository?\n"
   ]
  },
  {
   "cell_type": "code",
   "execution_count": 29,
   "metadata": {},
   "outputs": [
    {
     "name": "stdout",
     "output_type": "stream",
     "text": [
      "BitBake\n"
     ]
    }
   ],
   "source": [
    "average_stars_per_language = repos_df.groupby('language')['stargazers_count'].mean()\n",
    "highest_avg_stars_language = average_stars_per_language.idxmax()\n",
    "print(highest_avg_stars_language)\n"
   ]
  },
  {
   "cell_type": "markdown",
   "metadata": {},
   "source": [
    "8. Let's define leader_strength as followers / (1 + following). Who are the top 5 in terms of leader_strength? List their login in order, comma-separated.\n"
   ]
  },
  {
   "cell_type": "code",
   "execution_count": 30,
   "metadata": {},
   "outputs": [
    {
     "name": "stdout",
     "output_type": "stream",
     "text": [
      "riscv,bpasero,Seldaek,egamma,ethz-asl\n"
     ]
    }
   ],
   "source": [
    "df['leader_strength'] = df['followers'] / (1 + df['following'])\n",
    "top_leaders = df.nlargest(5, 'leader_strength')['login']\n",
    "top_leaders_list = ','.join(top_leaders)\n",
    "print(top_leaders_list)"
   ]
  },
  {
   "cell_type": "markdown",
   "metadata": {},
   "source": [
    "9. What is the correlation between the number of followers and the number of public repositories among users in Paris?\n",
    "Correlation between followers and repos (to 3 decimal places, e.g. 0.123 or -0.123)"
   ]
  },
  {
   "cell_type": "code",
   "execution_count": 31,
   "metadata": {},
   "outputs": [
    {
     "name": "stdout",
     "output_type": "stream",
     "text": [
      "0.066\n"
     ]
    }
   ],
   "source": [
    "correlation = df['followers'].corr(df['public_repos'])\n",
    "correlation_formatted = round(correlation, 3)\n",
    "print(correlation_formatted)"
   ]
  },
  {
   "cell_type": "markdown",
   "metadata": {},
   "source": [
    "10. Does creating more repos help users get more followers? Using regression, estimate how many additional followers a user gets per additional public repository.\n",
    "Regression slope of followers on repos (to 3 decimal places, e.g. 0.123 or -0.123)"
   ]
  },
  {
   "cell_type": "code",
   "execution_count": 32,
   "metadata": {},
   "outputs": [
    {
     "name": "stdout",
     "output_type": "stream",
     "text": [
      "1.468\n"
     ]
    }
   ],
   "source": [
    "from scipy.stats import linregress\n",
    "slope, intercept, r_value, p_value, std_err = linregress(df['public_repos'], df['followers'])\n",
    "slope_formatted = round(slope, 3)\n",
    "print(slope_formatted)"
   ]
  },
  {
   "cell_type": "markdown",
   "metadata": {},
   "source": [
    "11. Do people typically enable projects and wikis together? What is the correlation between a repo having projects enabled and having wiki enabled?\n",
    "Correlation between projects and wiki enabled (to 3 decimal places, e.g. 0.123 or -0.123)"
   ]
  },
  {
   "cell_type": "code",
   "execution_count": 33,
   "metadata": {},
   "outputs": [
    {
     "name": "stdout",
     "output_type": "stream",
     "text": [
      "Unique values in has_projects: [ True False]\n",
      "Unique values in has_wiki: [ True False]\n",
      "Correlation between projects and wiki enabled: 0.31\n"
     ]
    }
   ],
   "source": [
    "repos_df = pd.read_csv('repositories.csv')\n",
    "\n",
    "print(\"Unique values in has_projects:\", repos_df['has_projects'].unique())\n",
    "print(\"Unique values in has_wiki:\", repos_df['has_wiki'].unique())\n",
    "\n",
    "repos_df['has_projects'] = repos_df['has_projects'].map({True: 1, False: 0}).fillna(0).astype(int)\n",
    "repos_df['has_wiki'] = repos_df['has_wiki'].map({True: 1, False: 0}).fillna(0).astype(int)\n",
    "repos_df = repos_df.dropna(subset=['has_projects', 'has_wiki'])\n",
    "\n",
    "correlation = repos_df['has_projects'].corr(repos_df['has_wiki'])\n",
    "correlation_formatted = round(correlation, 3)\n",
    "\n",
    "print(\"Correlation between projects and wiki enabled:\", correlation_formatted)"
   ]
  },
  {
   "cell_type": "markdown",
   "metadata": {},
   "source": [
    "12. Do hireable users follow more people than those who are not hireable?\n",
    "Average of following per user for hireable=true minus the average following for the rest (to 3 decimal places, e.g. 12.345 or -12.345)"
   ]
  },
  {
   "cell_type": "code",
   "execution_count": 34,
   "metadata": {},
   "outputs": [
    {
     "name": "stdout",
     "output_type": "stream",
     "text": [
      "Difference in average following (hireable - non-hireable): -831.825\n"
     ]
    }
   ],
   "source": [
    "import pandas as pd\n",
    "import numpy as np\n",
    "\n",
    "def analyze_following_by_hireable(df):\n",
    "    \"\"\"\n",
    "    Analyze the difference in average following count between hireable and non-hireable users\n",
    "    \n",
    "    Parameters:\n",
    "    df: pandas DataFrame with hireable and following columns\n",
    "    \n",
    "    Returns:\n",
    "    float: difference in average following count (hireable - non-hireable)\n",
    "    dict: detailed statistics\n",
    "    \"\"\"\n",
    "    # Ensure hireable is treated as boolean\n",
    "    df['hireable'] = df['hireable'].fillna(False)\n",
    "    \n",
    "    # Calculate average following for hireable users\n",
    "    hireable_avg = df[df['hireable']]['following'].mean()\n",
    "    \n",
    "    # Calculate average following for non-hireable users\n",
    "    non_hireable_avg = df[~df['hireable']]['following'].mean()\n",
    "    \n",
    "    # Calculate the difference\n",
    "    difference = hireable_avg - non_hireable_avg\n",
    "    \n",
    "    # Gather additional statistics\n",
    "    stats = {\n",
    "        'difference': round(difference, 3),\n",
    "        'hireable_avg': round(hireable_avg, 3),\n",
    "        'non_hireable_avg': round(non_hireable_avg, 3),\n",
    "        'hireable_count': len(df[df['hireable']]),\n",
    "        'non_hireable_count': len(df[~df['hireable']]),\n",
    "        'hireable_std': df[df['hireable']]['following'].std(),\n",
    "        'non_hireable_std': df[~df['hireable']]['following'].std()\n",
    "    }\n",
    "    \n",
    "    return stats\n",
    "\n",
    "# Read the data\n",
    "df = pd.read_csv('users.csv')\n",
    "\n",
    "# Run the analysis\n",
    "results = analyze_following_by_hireable(df)\n",
    "\n",
    "print(f\"Difference in average following (hireable - non-hireable): {results['difference']}\")"
   ]
  },
  {
   "cell_type": "markdown",
   "metadata": {},
   "source": [
    "13. Some developers write long bios. Does that help them get more followers? What's the correlation of the length of their bio (in Unicode characters) with followers? (Ignore people without bios)\n",
    "Regression slope of followers on bio word count (to 3 decimal places, e.g. 12.345 or -12.345)"
   ]
  },
  {
   "cell_type": "code",
   "execution_count": 35,
   "metadata": {},
   "outputs": [
    {
     "data": {
      "text/plain": [
       "5.422877174220235"
      ]
     },
     "execution_count": 35,
     "metadata": {},
     "output_type": "execute_result"
    }
   ],
   "source": [
    "import pandas as pd\n",
    "\n",
    "# Load the users.csv file into a DataFrame\n",
    "df = pd.read_csv('users.csv')\n",
    "from sklearn.linear_model import LinearRegression\n",
    "users_with_bio = df[(df['bio'].notna()) & (df['bio'] != '')].copy()\n",
    "users_with_bio.loc[:, 'bio_len'] = users_with_bio['bio'].str.len()\n",
    "\n",
    "X = users_with_bio['bio_len'].values.reshape(-1,1)\n",
    "y = users_with_bio['followers']\n",
    "\n",
    "lr2 = LinearRegression()\n",
    "lr2.fit(X, y)\n",
    "lr2.coef_[0]"
   ]
  },
  {
   "cell_type": "markdown",
   "metadata": {},
   "source": [
    "14. Who created the most repositories on weekends (UTC)? List the top 5 users' login in order, comma-separated\n"
   ]
  },
  {
   "cell_type": "code",
   "execution_count": 36,
   "metadata": {},
   "outputs": [
    {
     "name": "stdout",
     "output_type": "stream",
     "text": [
      "JonnyBurger,syzer,kynan,nicnocquee,shuhei\n"
     ]
    }
   ],
   "source": [
    "import pandas as pd\n",
    "\n",
    "repos_df = pd.read_csv('repositories.csv')\n",
    "repos_df['created_at'] = pd.to_datetime(repos_df['created_at'])\n",
    "weekend_repos = repos_df[repos_df['created_at'].dt.dayofweek >= 5]\n",
    "user_repo_counts = weekend_repos['login'].value_counts()\n",
    "top_5_users = user_repo_counts.head(5).index.tolist()\n",
    "top_5_users_string = ','.join(top_5_users)\n",
    "\n",
    "print(top_5_users_string)"
   ]
  },
  {
   "cell_type": "markdown",
   "metadata": {},
   "source": [
    "15. Do people who are hireable share their email addresses more often?\n",
    "[fraction of users with email when hireable=true] minus [fraction of users with email for the rest] (to 3 decimal places, e.g. 0.123 or -0.123)"
   ]
  },
  {
   "cell_type": "code",
   "execution_count": 37,
   "metadata": {},
   "outputs": [
    {
     "name": "stdout",
     "output_type": "stream",
     "text": [
      "Difference in email sharing rates (hireable - non-hireable): 0.069\n"
     ]
    }
   ],
   "source": [
    "import pandas as pd\n",
    "import numpy as np\n",
    "\n",
    "def analyze_email_sharing(df):\n",
    "    \"\"\"\n",
    "    Analyze the difference in email sharing rates between hireable and non-hireable users\n",
    "    \n",
    "    Parameters:\n",
    "    df: pandas DataFrame with hireable and email columns\n",
    "    \n",
    "    Returns:\n",
    "    float: difference in email sharing rates\n",
    "    \"\"\"\n",
    "    # Ensure hireable is treated as boolean\n",
    "    df['hireable'] = df['hireable'].fillna(False)\n",
    "    \n",
    "    # Calculate proportion with email for hireable users\n",
    "    hireable_users = df[df['hireable']]\n",
    "    hireable_with_email = hireable_users['email'].notna().mean()\n",
    "    \n",
    "    # Calculate proportion with email for non-hireable users\n",
    "    non_hireable_users = df[~df['hireable']]\n",
    "    non_hireable_with_email = non_hireable_users['email'].notna().mean()\n",
    "    \n",
    "    # Calculate the difference\n",
    "    difference = hireable_with_email - non_hireable_with_email\n",
    "    \n",
    "    return round(difference, 3)\n",
    "\n",
    "# Read the data\n",
    "df = pd.read_csv('users.csv')\n",
    "\n",
    "# Calculate the difference in proportions\n",
    "diff = analyze_email_sharing(df)\n",
    "print(f\"Difference in email sharing rates (hireable - non-hireable): {diff}\")"
   ]
  },
  {
   "cell_type": "markdown",
   "metadata": {},
   "source": [
    "16. Let's assume that the last word in a user's name is their surname (ignore missing names, trim and split by whitespace.) What's the most common surname? (If there's a tie, list them all, comma-separated, alphabetically)\n",
    "Number of users with the most common surname"
   ]
  },
  {
   "cell_type": "code",
   "execution_count": 38,
   "metadata": {},
   "outputs": [
    {
     "name": "stdout",
     "output_type": "stream",
     "text": [
      "Most common surnames:\n",
      "Li, Wang\n"
     ]
    }
   ],
   "source": [
    "import pandas as pd\n",
    "from collections import Counter\n",
    "\n",
    "df['surname'] = df['name'].str.strip().str.split().str[-1]\n",
    "surname_counts = Counter(df['surname'].dropna())\n",
    "\n",
    "most_common_surname_count = surname_counts.most_common()\n",
    "most_common_count = most_common_surname_count[0][1]\n",
    "\n",
    "most_common_surnames = [surname for surname, count in most_common_surname_count if count == most_common_count]\n",
    "most_common_surnames.sort()\n",
    "most_common_surnames_output = ', '.join(most_common_surnames)\n",
    "\n",
    "print(\"Most common surnames:\")\n",
    "print(most_common_surnames_output)"
   ]
  },
  {
   "cell_type": "code",
   "execution_count": null,
   "metadata": {},
   "outputs": [],
   "source": []
  }
 ],
 "metadata": {
  "kernelspec": {
   "display_name": "Python 3 (ipykernel)",
   "language": "python",
   "name": "python3"
  },
  "language_info": {
   "codemirror_mode": {
    "name": "ipython",
    "version": 3
   },
   "file_extension": ".py",
   "mimetype": "text/x-python",
   "name": "python",
   "nbconvert_exporter": "python",
   "pygments_lexer": "ipython3",
   "version": "3.12.3"
  }
 },
 "nbformat": 4,
 "nbformat_minor": 4
}
